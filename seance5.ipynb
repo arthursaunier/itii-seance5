{
  "nbformat": 4,
  "nbformat_minor": 0,
  "metadata": {
    "kernelspec": {
      "display_name": "Python 3",
      "language": "python",
      "name": "python3"
    },
    "language_info": {
      "codemirror_mode": {
        "name": "ipython",
        "version": 3
      },
      "file_extension": ".py",
      "mimetype": "text/x-python",
      "name": "python",
      "nbconvert_exporter": "python",
      "pygments_lexer": "ipython3",
      "version": "3.7.6"
    },
    "colab": {
      "name": "seance5.ipynb",
      "provenance": []
    }
  },
  "cells": [
    {
      "cell_type": "markdown",
      "metadata": {
        "id": "_8LQB8bAA85u"
      },
      "source": [
        "Ex1:\n",
        "    \n",
        "1. Ecrire une fonction qui prend en entrée une fonction f et des réels a et h et donne en sortie le taux de variation (ou d'accroissement) de la fonction f entre le point d'abscisse a+h et a.\n",
        "2. Tester avec f(x)=3x^3+1x^2-5"
      ]
    },
    {
      "cell_type": "code",
      "metadata": {
        "id": "ZNVBw2l8A85v",
        "outputId": "d9cf882e-e1b3-49d4-a5ad-720859fbec99",
        "colab": {
          "base_uri": "https://localhost:8080/"
        }
      },
      "source": [
        "import numpy as np\n",
        "\n",
        "\n",
        "def variation(fn, a, h):\n",
        "    t = (fn(a+h)-fn(a))/h\n",
        "    return t\n",
        "\n",
        "def fn(x):\n",
        "    return 3*np.power(x, 3) + np.power(x, 2) - 5\n",
        "\n",
        "variation(fn, 4, 2)"
      ],
      "execution_count": 31,
      "outputs": [
        {
          "output_type": "execute_result",
          "data": {
            "text/plain": [
              "238.0"
            ]
          },
          "metadata": {
            "tags": []
          },
          "execution_count": 31
        }
      ]
    },
    {
      "cell_type": "markdown",
      "metadata": {
        "id": "hvQpYlJwA85y"
      },
      "source": [
        "Ex2:\n",
        "1. Ecrire une fonction qui calcule la liste des coefficients directeurs pour une fonction f définit sur I=[a;b] avec un pas \"p\"\n",
        "2. Tester avec f(x)=(1+x)/(x-4) définit sur I=[0,1] avec un pas de 0.01"
      ]
    },
    {
      "cell_type": "code",
      "metadata": {
        "id": "AAaOh8AuA85z",
        "outputId": "8650f6b0-7cce-470a-83e1-b6f60e2706fe",
        "colab": {
          "base_uri": "https://localhost:8080/",
          "height": 128
        }
      },
      "source": [
        "def coefdir(fn, a, b,p):\n",
        "    coef = []\n",
        "    # on ajoute à la liste le coef directeur entre l'intervall avec un pas p\n",
        "    for i in range(a,b,p):\n",
        "      # faire un coef.push\n",
        "    return coef\n",
        "\n",
        "def fn(x):\n",
        "    return (1+x)/(x-4)\n",
        "\n",
        "coefdir(fn, 0, 1, 2)"
      ],
      "execution_count": 24,
      "outputs": [
        {
          "output_type": "error",
          "ename": "IndentationError",
          "evalue": "ignored",
          "traceback": [
            "\u001b[0;36m  File \u001b[0;32m\"<ipython-input-24-7342f5db4e01>\"\u001b[0;36m, line \u001b[0;32m6\u001b[0m\n\u001b[0;31m    return coef\u001b[0m\n\u001b[0m         ^\u001b[0m\n\u001b[0;31mIndentationError\u001b[0m\u001b[0;31m:\u001b[0m expected an indented block\n"
          ]
        }
      ]
    },
    {
      "cell_type": "markdown",
      "metadata": {
        "id": "3B79LYXgA853"
      },
      "source": [
        "Ex3:\n",
        "on considère une suite U définie par Un+1=Un+n+1 et de premier terme U0. Ecrire une fonction qui prend en entrée les valeurs de n et U0 et affiche la valeur de Un.\n",
        "1. De facon iterative\n",
        "2. Par recurence"
      ]
    },
    {
      "cell_type": "code",
      "metadata": {
        "id": "3JTVvO8tA854"
      },
      "source": [
        "# iterative\n",
        "\n",
        "def calcul_suite(n, u0):\n",
        "\n",
        "    uN = u0 + n + 1\n",
        "\n",
        "    for i in range(10):\n",
        "        uN = uN + n + 1\n",
        "        print(uN)\n",
        "\n",
        "# recurrence\n",
        "\n",
        "def recu(n, uN):\n",
        "    resp = uN + n + 1\n",
        "    print(resp)\n",
        "    return recu(n, resp)"
      ],
      "execution_count": 30,
      "outputs": []
    },
    {
      "cell_type": "markdown",
      "metadata": {
        "id": "y1UapkmSA857"
      },
      "source": [
        "Ex4:\n",
        "On pose Tn=n^2−(n−1)^2 ainsi que Sn=T1+T2+T3+...+Tn.\n",
        "1. Etant donné n, afficher la valeur de Sn."
      ]
    },
    {
      "cell_type": "code",
      "metadata": {
        "id": "StSnP5iFA857",
        "outputId": "213e4373-8df0-474a-85e2-8e49f68fbb65",
        "colab": {
          "base_uri": "https://localhost:8080/"
        }
      },
      "source": [
        "def T(n):\n",
        "    return (n**2-((n-1)**2))\n",
        "\n",
        "def S(n):\n",
        "    res = 0\n",
        "    for i in range(1, n+1):\n",
        "        res = res + T(i)\n",
        "    return res\n",
        "\n",
        "S(3)"
      ],
      "execution_count": 18,
      "outputs": [
        {
          "output_type": "execute_result",
          "data": {
            "text/plain": [
              "9"
            ]
          },
          "metadata": {
            "tags": []
          },
          "execution_count": 18
        }
      ]
    },
    {
      "cell_type": "markdown",
      "metadata": {
        "id": "1-jlOKjjA859"
      },
      "source": [
        "Ex5:\n",
        "Soit la suite définie par Un+1=0.5.Un et de premier terme U0. Plus la valeur de n augmente, plus les valeurs de Un se rapprochent de 0.\n",
        "\n",
        "Ecrire une fonction qui permet de déterminer pour un réel positif e donné, quel est le plus petit entier n tel que la valeur de Un soit inférieure à e.\n"
      ]
    },
    {
      "cell_type": "code",
      "metadata": {
        "id": "57NDBtYgA85-",
        "outputId": "8c9590da-5257-4761-8e16-02644dcb1484",
        "colab": {
          "base_uri": "https://localhost:8080/"
        }
      },
      "source": [
        "def deter(e, u0):\n",
        "    b = 1;\n",
        "    un = u0\n",
        "    n = 0;\n",
        "    while ( b == 1 ):\n",
        "        un = uN(un)\n",
        "        print(un)\n",
        "        if(un < e):\n",
        "            b = 0\n",
        "        else:\n",
        "            n+=1\n",
        "\n",
        "    return n;\n",
        "\n",
        "def uN(un):\n",
        "    return 0.5*un\n",
        "\n",
        "deter(5, 2)"
      ],
      "execution_count": 8,
      "outputs": [
        {
          "output_type": "stream",
          "text": [
            "1.0\n"
          ],
          "name": "stdout"
        },
        {
          "output_type": "execute_result",
          "data": {
            "text/plain": [
              "0"
            ]
          },
          "metadata": {
            "tags": []
          },
          "execution_count": 8
        }
      ]
    },
    {
      "cell_type": "markdown",
      "metadata": {
        "id": "E96YyWSMA86A"
      },
      "source": [
        "Ex6: Constante K de Catalan : https://fr.wikipedia.org/wiki/Constante_de_Catalan\n",
        "Ecrire une fonction qui permet de retourner une valeur approchée de la constante K et en s’arrêtant dès que la valeur absolue de la différence entre deux somme successives devienne inférieure ou égale à une erreur epsilon donnée en paramètre.\n",
        "\n"
      ]
    },
    {
      "cell_type": "code",
      "metadata": {
        "id": "EjHDUcCZA86A",
        "outputId": "70f7b5a9-9fc7-4928-9e02-70b096f03b8c",
        "colab": {
          "base_uri": "https://localhost:8080/"
        }
      },
      "source": [
        "def Catalan(epsilon): \n",
        "    elm1=1\n",
        "    elm2=elm1-1/(3**2)\n",
        "    signe=1\n",
        "    val=5\n",
        "    while abs(elm2-elm1)>epsilon:\n",
        "       elm1=elm2\n",
        "       elm2=elm1+signe*(1/(val**2))\n",
        "       val+=2\n",
        "       signe*=(-1)\n",
        "    return elm2\n",
        " \n",
        "# test fct\n",
        "print(Catalan(0.05))"
      ],
      "execution_count": 19,
      "outputs": [
        {
          "output_type": "stream",
          "text": [
            "0.9288888888888889\n"
          ],
          "name": "stdout"
        }
      ]
    },
    {
      "cell_type": "markdown",
      "metadata": {
        "id": "wiIl1DE0A86D"
      },
      "source": [
        "Ex 7:\n",
        "Ecrivez une fonction permettant de calculer la limite à epsilon près de la suite définie par la relation de récurrence :\n",
        "\n",
        "U0 =2\n",
        "Un+1= Un + 2/Un  , n>0.\n",
        "\n",
        "On arrête d’itérer quand l’intervalle entre 2 termes consécutifs devient strictement inférieur à epsilon."
      ]
    },
    {
      "cell_type": "code",
      "metadata": {
        "id": "jYES0KlJHXK1",
        "outputId": "be39fda8-ad0a-467b-d501-756474e2ca1e",
        "colab": {
          "base_uri": "https://localhost:8080/"
        }
      },
      "source": [
        "def limite(epsilon):\n",
        "    U0 = 2\n",
        "    Un = U0+2/U0\n",
        "    while abs(Un-U0) > epsilon:\n",
        "        U0 = Un\n",
        "        Un = U0+2/U0\n",
        "    return Un\n",
        " \n",
        " \n",
        "print(limite(0.01))"
      ],
      "execution_count": 28,
      "outputs": [
        {
          "output_type": "stream",
          "text": [
            "200.01380434362358\n"
          ],
          "name": "stdout"
        }
      ]
    }
  ]
}